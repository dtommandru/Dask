{
 "cells": [
  {
   "cell_type": "markdown",
   "metadata": {},
   "source": [
    "# Topics\n",
    "-----------------------------\n",
    "## Prequel\n",
    "<ul>\n",
    "    <li>Introduction to Generators & Decorators</li>\n",
    "</ul>\n",
    "<h2>Dask</h2>\n",
    "\n",
    "<ul>\n",
    "    <li> Parallelizing the traditional pandas pipeline</li>\n",
    "    <li> Dask Arrays</li>\n",
    "</ul>\n",
    "   "
   ]
  },
  {
   "cell_type": "markdown",
   "metadata": {},
   "source": [
    "## Generators"
   ]
  },
  {
   "cell_type": "code",
   "execution_count": 40,
   "metadata": {},
   "outputs": [],
   "source": [
    "# Simple generator\n",
    "\"\"\"\n",
    "If a function contains at least one yield statement (it may contain other yield or return statements), \n",
    "it becomes a generator function. Both \"yield\" and \"return\" will return some value from a function.\n",
    "\n",
    "Here is how a generator function differs from a normal function.\n",
    "\n",
    "--Generator function contains one or more yield statement.\n",
    "--When called, it returns an object (iterator) but does not start execution immediately.\n",
    "--Methods like __iter__() and __next__() are implemented automatically. So we can iterate through the items using next().\n",
    "--Once the function yields, the function is paused and the control is transferred to the caller.\n",
    "--Local variables and their states are remembered between successive calls.\n",
    "--Finally, when the function terminates, StopIteration is raised automatically on further calls.\n",
    "\"\"\"\n",
    "def my_gen():\n",
    "    n = 1\n",
    "    print('This is printed first')\n",
    "    yield n\n",
    "\n",
    "    n += 1\n",
    "    print('This is printed second')\n",
    "    yield n\n",
    "\n",
    "    n += 1\n",
    "    print('This is printed at last')\n",
    "    yield n"
   ]
  },
  {
   "cell_type": "code",
   "execution_count": 41,
   "metadata": {},
   "outputs": [
    {
     "name": "stdout",
     "output_type": "stream",
     "text": [
      "<class 'generator'>\n"
     ]
    }
   ],
   "source": [
    "gen = my_gen()\n",
    "print(type(gen))\n",
    "#next(gen)\n",
    "#next(gen)\n",
    "#next(gen)\n",
    "#next(gen)"
   ]
  },
  {
   "cell_type": "code",
   "execution_count": 42,
   "metadata": {},
   "outputs": [
    {
     "name": "stdout",
     "output_type": "stream",
     "text": [
      "<class 'generator'>\n",
      "1\n",
      "4\n",
      "9\n",
      "16\n",
      "25\n",
      "36\n"
     ]
    }
   ],
   "source": [
    "\"\"\"\n",
    "This is how we create generators on the fly\n",
    "\"\"\"\n",
    "my_list =[1,2,3,4,5,6]\n",
    "gen = (x**2 for x in my_list)\n",
    "print(type(gen))\n",
    "for i in gen:\n",
    "    print(i)"
   ]
  },
  {
   "cell_type": "code",
   "execution_count": 43,
   "metadata": {},
   "outputs": [
    {
     "ename": "StopIteration",
     "evalue": "",
     "output_type": "error",
     "traceback": [
      "\u001b[1;31m---------------------------------------------------------------------------\u001b[0m",
      "\u001b[1;31mStopIteration\u001b[0m                             Traceback (most recent call last)",
      "\u001b[1;32m<ipython-input-43-6e72e47198db>\u001b[0m in \u001b[0;36m<module>\u001b[1;34m()\u001b[0m\n\u001b[1;32m----> 1\u001b[1;33m \u001b[0mnext\u001b[0m\u001b[1;33m(\u001b[0m\u001b[0mgen\u001b[0m\u001b[1;33m)\u001b[0m\u001b[1;33m\u001b[0m\u001b[0m\n\u001b[0m",
      "\u001b[1;31mStopIteration\u001b[0m: "
     ]
    }
   ],
   "source": [
    "next(gen)"
   ]
  },
  {
   "cell_type": "code",
   "execution_count": 44,
   "metadata": {},
   "outputs": [
    {
     "name": "stdout",
     "output_type": "stream",
     "text": [
      "91\n",
      "36\n"
     ]
    }
   ],
   "source": [
    "\"\"\"\n",
    "Generator expression can be used inside functions. \n",
    "When used in such a way, the round parentheses can be dropped.\n",
    "\"\"\"\n",
    "print(sum(x**2 for x in my_list))\n",
    "print(max(x**2 for x in my_list))"
   ]
  },
  {
   "cell_type": "markdown",
   "metadata": {},
   "source": [
    "## Decorators"
   ]
  },
  {
   "cell_type": "code",
   "execution_count": 45,
   "metadata": {},
   "outputs": [
    {
     "name": "stdout",
     "output_type": "stream",
     "text": [
      "4\n",
      "2\n"
     ]
    }
   ],
   "source": [
    "\"\"\"\n",
    "Python has an interesting feature called decorators to add functionality to an existing code.\n",
    "This is also called metaprogramming as a part of the program tries to modify another part of the program at compile time.\n",
    "\n",
    "Functions can be passed as arguments to another function.\n",
    "\n",
    "Such function that take other functions as arguments are also called higher order functions. \n",
    "Here is an example of such a function.\n",
    "\"\"\"\n",
    "def inc(x):\n",
    "    return x + 1\n",
    "\n",
    "def dec(x):\n",
    "    return x - 1\n",
    "\n",
    "def operate(func, x):\n",
    "    result = func(x)\n",
    "    return result\n",
    "\n",
    "print(operate(inc,3))\n",
    "print(operate(dec,3))"
   ]
  },
  {
   "cell_type": "code",
   "execution_count": 46,
   "metadata": {},
   "outputs": [
    {
     "name": "stdout",
     "output_type": "stream",
     "text": [
      "Hello\n"
     ]
    }
   ],
   "source": [
    "\"\"\"\n",
    "Furthermore, a function can return another function.\n",
    "\n",
    "Here, is_returned() is a nested function which is defined and returned, each time we call is_called().\n",
    "\"\"\"\n",
    "def is_called():\n",
    "    def is_returned():\n",
    "        print(\"Hello\")\n",
    "    return is_returned\n",
    "\n",
    "new = is_called()\n",
    "#Outputs \"Hello\"\n",
    "new()"
   ]
  },
  {
   "cell_type": "code",
   "execution_count": 47,
   "metadata": {},
   "outputs": [
    {
     "name": "stdout",
     "output_type": "stream",
     "text": [
      "I am ordinary\n",
      "I got decorated\n",
      "I am ordinary\n"
     ]
    }
   ],
   "source": [
    "def make_pretty(func):\n",
    "    def inner():\n",
    "        print(\"I got decorated\")\n",
    "        func()\n",
    "    return inner\n",
    "\n",
    "def ordinary():\n",
    "    print(\"I am ordinary\")\n",
    "    \n",
    "ordinary()\n",
    "# let's decorate this ordinary function\n",
    "pretty = make_pretty(ordinary)\n",
    "pretty()"
   ]
  },
  {
   "cell_type": "code",
   "execution_count": 48,
   "metadata": {},
   "outputs": [],
   "source": [
    "@make_pretty\n",
    "def ordinary():\n",
    "    print(\"I am ordinary\")\n",
    "\n",
    "#ordinary()"
   ]
  },
  {
   "cell_type": "code",
   "execution_count": 49,
   "metadata": {},
   "outputs": [
    {
     "name": "stdout",
     "output_type": "stream",
     "text": [
      "50\n"
     ]
    }
   ],
   "source": [
    "import dask\n",
    "from dask import delayed\n",
    "\n",
    "@delayed\n",
    "def increament(x):\n",
    "    return x+1\n",
    "\n",
    "@delayed\n",
    "def double(x):\n",
    "    return 2*x\n",
    "\n",
    "@delayed\n",
    "def add(x,y):\n",
    "    return x+y\n",
    "\n",
    "data = [i for i in range(1,6)]\n",
    "output = []\n",
    "\n",
    "for i in data:\n",
    "    a = increament(i)\n",
    "    b = double(i)\n",
    "    c = add(a,b)\n",
    "    output.append(c)\n",
    "\n",
    "total = sum(output)\n",
    "\n",
    "print(total.compute())"
   ]
  },
  {
   "cell_type": "markdown",
   "metadata": {},
   "source": [
    "## Dask"
   ]
  },
  {
   "cell_type": "code",
   "execution_count": 64,
   "metadata": {},
   "outputs": [],
   "source": [
    "import pandas as pd\n",
    "from sys import getsizeof\n",
    "import matplotlib.pyplot as plt\n",
    "import numpy as np\n",
    "import dask.array as da\n",
    "import dask.dataframe as dd\n",
    "import time\n",
    "import h5py\n"
   ]
  },
  {
   "cell_type": "code",
   "execution_count": 51,
   "metadata": {},
   "outputs": [],
   "source": [
    "template = \"./flightdelays/flightdelays-2016-{:d}.csv\"\n",
    "filenames = [template.format(i) for i in range(1,6)]"
   ]
  },
  {
   "cell_type": "code",
   "execution_count": 52,
   "metadata": {},
   "outputs": [],
   "source": [
    "def pct_delayed(df):\n",
    "    # Compute number of delayed flights: n_delayed\n",
    "    n_delayed = (df['DEP_DELAY']>0).sum()\n",
    "    # Return percentage of delayed flights\n",
    "    return n_delayed*100/len(df)"
   ]
  },
  {
   "cell_type": "code",
   "execution_count": 53,
   "metadata": {},
   "outputs": [
    {
     "name": "stdout",
     "output_type": "stream",
     "text": [
      "88\n"
     ]
    },
    {
     "data": {
      "image/png": "[encoded data removed]",
      "text/plain": [
       "<matplotlib.figure.Figure at 0x1ea889984a8>"
      ]
     },
     "metadata": {},
     "output_type": "display_data"
    }
   ],
   "source": [
    "dataframes = (pd.read_csv(file) for file in filenames)\n",
    "monthly_delayed = [pct_delayed(df) for df in dataframes]\n",
    "print(getsizeof(dataframes))\n",
    "x = range(1,6)\n",
    "plt.plot(x, monthly_delayed, marker='o', linewidth=0)\n",
    "plt.ylabel('% Delayed')\n",
    "plt.xlabel('Month - 2016')\n",
    "plt.xlim((1,6))\n",
    "plt.ylim((0,100))\n",
    "plt.show()"
   ]
  },
  {
   "cell_type": "code",
   "execution_count": 54,
   "metadata": {},
   "outputs": [],
   "source": [
    "@delayed\n",
    "def pct_delayed(df):\n",
    "    # Compute number of delayed flights: n_delayed\n",
    "    n_delayed = df.DEP_DELAY >0\n",
    "    n_delayed = sum(n_delayed)\n",
    "    # Return percentage of delayed flights\n",
    "    return n_delayed*100/len(df)\n",
    "\n",
    "@delayed\n",
    "def read_file(fname):\n",
    "    return pd.read_csv(fname)"
   ]
  },
  {
   "cell_type": "code",
   "execution_count": 55,
   "metadata": {},
   "outputs": [],
   "source": [
    "delayed = [pct_delayed(read_file(fname)) for fname in filenames]"
   ]
  },
  {
   "cell_type": "code",
   "execution_count": 56,
   "metadata": {},
   "outputs": [
    {
     "data": {
      "text/plain": [
       "161.79578377252975"
      ]
     },
     "execution_count": 56,
     "metadata": {},
     "output_type": "execute_result"
    }
   ],
   "source": [
    "total_delayed = sum(delayed)\n",
    "total_delayed.compute()"
   ]
  },
  {
   "cell_type": "markdown",
   "metadata": {},
   "source": [
    "## Dask Arrays"
   ]
  },
  {
   "cell_type": "code",
   "execution_count": 59,
   "metadata": {},
   "outputs": [
    {
     "name": "stdout",
     "output_type": "stream",
     "text": [
      "((5000, 5000, 5000, 5000),)\n",
      "9999.5\n",
      "dask.array<mean_agg-aggregate, shape=(), dtype=float64, chunksize=()>\n"
     ]
    }
   ],
   "source": [
    "data = np.arange(20000)\n",
    "dask_data = da.from_array(data, chunks=len(data)//4)\n",
    "print(dask_data.chunks)\n",
    "print(dask_data.mean().compute())\n",
    "print(dask_data.mean())"
   ]
  },
  {
   "cell_type": "markdown",
   "metadata": {},
   "source": [
    "## Dask DataFrames"
   ]
  },
  {
   "cell_type": "code",
   "execution_count": null,
   "metadata": {},
   "outputs": [],
   "source": []
  }
 ],
 "metadata": {
  "kernelspec": {
   "display_name": "Python 3",
   "language": "python",
   "name": "python3"
  },
  "language_info": {
   "codemirror_mode": {
    "name": "ipython",
    "version": 3
   },
   "file_extension": ".py",
   "mimetype": "text/x-python",
   "name": "python",
   "nbconvert_exporter": "python",
   "pygments_lexer": "ipython3",
   "version": "3.6.4"
  }
 },
 "nbformat": 4,
 "nbformat_minor": 2
}
